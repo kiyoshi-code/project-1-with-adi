{
 "cells": [
  {
   "cell_type": "code",
   "execution_count": 56,
   "id": "e44d7dc9",
   "metadata": {},
   "outputs": [],
   "source": [
    "import numpy as np\n",
    "import pandas as pd\n",
    "import matplotlib.pyplot as plt\n",
    "import seaborn as sns"
   ]
  },
  {
   "cell_type": "code",
   "execution_count": 30,
   "id": "629def86",
   "metadata": {},
   "outputs": [],
   "source": [
    "from sklearn.model_selection import train_test_split\n",
    "from sklearn.metrics import mean_absolute_error, mean_squared_error, r2_score"
   ]
  },
  {
   "cell_type": "code",
   "execution_count": null,
   "id": "e255fb37",
   "metadata": {},
   "outputs": [],
   "source": [
    "from sklearn.linear_model import LinearRegression, Ridge, Lasso\n",
    "from sklearn.tree import DecisionTreeRegressor\n",
    "from sklearn.ensemble import RandomForestRegressor\n",
    "from sklearn.svm import SVR"
   ]
  },
  {
   "cell_type": "code",
   "execution_count": 13,
   "id": "a54342ce",
   "metadata": {},
   "outputs": [],
   "source": [
    "from sklearn.preprocessing import StandardScaler"
   ]
  },
  {
   "cell_type": "code",
   "execution_count": 8,
   "id": "9205b402",
   "metadata": {},
   "outputs": [
    {
     "data": {
      "text/html": [
       "<div>\n",
       "<style scoped>\n",
       "    .dataframe tbody tr th:only-of-type {\n",
       "        vertical-align: middle;\n",
       "    }\n",
       "\n",
       "    .dataframe tbody tr th {\n",
       "        vertical-align: top;\n",
       "    }\n",
       "\n",
       "    .dataframe thead th {\n",
       "        text-align: right;\n",
       "    }\n",
       "</style>\n",
       "<table border=\"1\" class=\"dataframe\">\n",
       "  <thead>\n",
       "    <tr style=\"text-align: right;\">\n",
       "      <th></th>\n",
       "      <th>dt</th>\n",
       "      <th>temp</th>\n",
       "      <th>feels_like</th>\n",
       "      <th>pressure</th>\n",
       "      <th>humidity</th>\n",
       "      <th>temp_min</th>\n",
       "      <th>temp_max</th>\n",
       "      <th>wind_speed</th>\n",
       "      <th>wind_deg</th>\n",
       "      <th>clouds_all</th>\n",
       "      <th>weather_main</th>\n",
       "      <th>weather_description</th>\n",
       "      <th>latitude</th>\n",
       "      <th>longitude</th>\n",
       "      <th>visibility</th>\n",
       "      <th>dew_point</th>\n",
       "      <th>uv_index</th>\n",
       "      <th>temp_Celsius</th>\n",
       "      <th>day_of_week</th>\n",
       "    </tr>\n",
       "  </thead>\n",
       "  <tbody>\n",
       "    <tr>\n",
       "      <th>0</th>\n",
       "      <td>1672531200</td>\n",
       "      <td>291.642630</td>\n",
       "      <td>303.634593</td>\n",
       "      <td>991</td>\n",
       "      <td>13.0</td>\n",
       "      <td>266.955102</td>\n",
       "      <td>287.229503</td>\n",
       "      <td>9.803036</td>\n",
       "      <td>128</td>\n",
       "      <td>66</td>\n",
       "      <td>Thunderstorm</td>\n",
       "      <td>few clouds</td>\n",
       "      <td>78.780178</td>\n",
       "      <td>-1.732498</td>\n",
       "      <td>7291</td>\n",
       "      <td>286.435469</td>\n",
       "      <td>0.586973</td>\n",
       "      <td>18.492630</td>\n",
       "      <td>Sunday</td>\n",
       "    </tr>\n",
       "    <tr>\n",
       "      <th>1</th>\n",
       "      <td>1672534800</td>\n",
       "      <td>298.110529</td>\n",
       "      <td>308.576461</td>\n",
       "      <td>1022</td>\n",
       "      <td>66.0</td>\n",
       "      <td>257.179161</td>\n",
       "      <td>290.785585</td>\n",
       "      <td>200.000000</td>\n",
       "      <td>165</td>\n",
       "      <td>24</td>\n",
       "      <td>Drizzle</td>\n",
       "      <td>clear sky</td>\n",
       "      <td>7.808529</td>\n",
       "      <td>62.192429</td>\n",
       "      <td>233</td>\n",
       "      <td>239.293774</td>\n",
       "      <td>6.287994</td>\n",
       "      <td>24.960529</td>\n",
       "      <td>Sunday</td>\n",
       "    </tr>\n",
       "    <tr>\n",
       "      <th>2</th>\n",
       "      <td>1672538400</td>\n",
       "      <td>306.901877</td>\n",
       "      <td>286.877866</td>\n",
       "      <td>984</td>\n",
       "      <td>53.0</td>\n",
       "      <td>263.838302</td>\n",
       "      <td>293.482808</td>\n",
       "      <td>14.681301</td>\n",
       "      <td>306</td>\n",
       "      <td>7</td>\n",
       "      <td>Drizzle</td>\n",
       "      <td>light drizzle</td>\n",
       "      <td>-40.820393</td>\n",
       "      <td>-117.277940</td>\n",
       "      <td>7270</td>\n",
       "      <td>234.787210</td>\n",
       "      <td>8.619931</td>\n",
       "      <td>33.751877</td>\n",
       "      <td>Sunday</td>\n",
       "    </tr>\n",
       "    <tr>\n",
       "      <th>3</th>\n",
       "      <td>1672542000</td>\n",
       "      <td>312.883459</td>\n",
       "      <td>260.983233</td>\n",
       "      <td>998</td>\n",
       "      <td>15.0</td>\n",
       "      <td>260.275475</td>\n",
       "      <td>314.995047</td>\n",
       "      <td>8.068081</td>\n",
       "      <td>228</td>\n",
       "      <td>15</td>\n",
       "      <td>Clouds</td>\n",
       "      <td>clear sky</td>\n",
       "      <td>-80.628369</td>\n",
       "      <td>161.755954</td>\n",
       "      <td>6953</td>\n",
       "      <td>243.060115</td>\n",
       "      <td>8.731829</td>\n",
       "      <td>39.733459</td>\n",
       "      <td>Sunday</td>\n",
       "    </tr>\n",
       "    <tr>\n",
       "      <th>4</th>\n",
       "      <td>1672545600</td>\n",
       "      <td>304.110333</td>\n",
       "      <td>257.896054</td>\n",
       "      <td>991</td>\n",
       "      <td>65.0</td>\n",
       "      <td>245.725847</td>\n",
       "      <td>329.935558</td>\n",
       "      <td>1.946211</td>\n",
       "      <td>151</td>\n",
       "      <td>1</td>\n",
       "      <td>Drizzle</td>\n",
       "      <td>light drizzle</td>\n",
       "      <td>-7.494312</td>\n",
       "      <td>-60.130403</td>\n",
       "      <td>6825</td>\n",
       "      <td>281.684305</td>\n",
       "      <td>2.691817</td>\n",
       "      <td>30.960333</td>\n",
       "      <td>Sunday</td>\n",
       "    </tr>\n",
       "  </tbody>\n",
       "</table>\n",
       "</div>"
      ],
      "text/plain": [
       "           dt        temp  feels_like  pressure  humidity    temp_min  \\\n",
       "0  1672531200  291.642630  303.634593       991      13.0  266.955102   \n",
       "1  1672534800  298.110529  308.576461      1022      66.0  257.179161   \n",
       "2  1672538400  306.901877  286.877866       984      53.0  263.838302   \n",
       "3  1672542000  312.883459  260.983233       998      15.0  260.275475   \n",
       "4  1672545600  304.110333  257.896054       991      65.0  245.725847   \n",
       "\n",
       "     temp_max  wind_speed  wind_deg  clouds_all  weather_main  \\\n",
       "0  287.229503    9.803036       128          66  Thunderstorm   \n",
       "1  290.785585  200.000000       165          24       Drizzle   \n",
       "2  293.482808   14.681301       306           7       Drizzle   \n",
       "3  314.995047    8.068081       228          15        Clouds   \n",
       "4  329.935558    1.946211       151           1       Drizzle   \n",
       "\n",
       "  weather_description   latitude   longitude  visibility   dew_point  \\\n",
       "0          few clouds  78.780178   -1.732498        7291  286.435469   \n",
       "1           clear sky   7.808529   62.192429         233  239.293774   \n",
       "2       light drizzle -40.820393 -117.277940        7270  234.787210   \n",
       "3           clear sky -80.628369  161.755954        6953  243.060115   \n",
       "4       light drizzle  -7.494312  -60.130403        6825  281.684305   \n",
       "\n",
       "   uv_index  temp_Celsius day_of_week  \n",
       "0  0.586973     18.492630      Sunday  \n",
       "1  6.287994     24.960529      Sunday  \n",
       "2  8.619931     33.751877      Sunday  \n",
       "3  8.731829     39.733459      Sunday  \n",
       "4  2.691817     30.960333      Sunday  "
      ]
     },
     "execution_count": 8,
     "metadata": {},
     "output_type": "execute_result"
    }
   ],
   "source": [
    "df=pd.read_csv(\"dataset_modified.csv\")\n",
    "df.head(5)"
   ]
  },
  {
   "cell_type": "code",
   "execution_count": 9,
   "id": "440cbcda",
   "metadata": {},
   "outputs": [
    {
     "name": "stdout",
     "output_type": "stream",
     "text": [
      "<class 'pandas.core.frame.DataFrame'>\n",
      "RangeIndex: 500 entries, 0 to 499\n",
      "Data columns (total 19 columns):\n",
      " #   Column               Non-Null Count  Dtype  \n",
      "---  ------               --------------  -----  \n",
      " 0   dt                   500 non-null    int64  \n",
      " 1   temp                 497 non-null    float64\n",
      " 2   feels_like           500 non-null    float64\n",
      " 3   pressure             500 non-null    int64  \n",
      " 4   humidity             475 non-null    float64\n",
      " 5   temp_min             500 non-null    float64\n",
      " 6   temp_max             500 non-null    float64\n",
      " 7   wind_speed           497 non-null    float64\n",
      " 8   wind_deg             500 non-null    int64  \n",
      " 9   clouds_all           500 non-null    int64  \n",
      " 10  weather_main         498 non-null    object \n",
      " 11  weather_description  485 non-null    object \n",
      " 12  latitude             500 non-null    float64\n",
      " 13  longitude            500 non-null    float64\n",
      " 14  visibility           500 non-null    int64  \n",
      " 15  dew_point            500 non-null    float64\n",
      " 16  uv_index             500 non-null    float64\n",
      " 17  temp_Celsius         482 non-null    float64\n",
      " 18  day_of_week          498 non-null    object \n",
      "dtypes: float64(11), int64(5), object(3)\n",
      "memory usage: 74.3+ KB\n"
     ]
    }
   ],
   "source": [
    "df.info()"
   ]
  },
  {
   "cell_type": "code",
   "execution_count": 57,
   "id": "15fde6a9",
   "metadata": {},
   "outputs": [
    {
     "data": {
      "image/png": "[encoded data removed]",
      "text/plain": [
       "<Figure size 600x400 with 1 Axes>"
      ]
     },
     "metadata": {},
     "output_type": "display_data"
    }
   ],
   "source": [
    "plt.figure(figsize=(6,4))\n",
    "sns.histplot(df[\"delay_minutes\"], bins=30, kde=True)\n",
    "plt.title(\"Distribution of Delay Minutes\")\n",
    "plt.xlabel(\"Delay (minutes)\")\n",
    "plt.ylabel(\"Count\")\n",
    "plt.show()"
   ]
  },
  {
   "cell_type": "code",
   "execution_count": null,
   "id": "30219899",
   "metadata": {},
   "outputs": [],
   "source": []
  },
  {
   "cell_type": "markdown",
   "id": "38c64c6c",
   "metadata": {},
   "source": []
  },
  {
   "cell_type": "code",
   "execution_count": 14,
   "id": "649fef48",
   "metadata": {},
   "outputs": [],
   "source": [
    "#data cleaning\n",
    "for col in df.columns:\n",
    "    if pd.api.types.is_numeric_dtype(df[col]):\n",
    "        df[col] = df[col].fillna(df[col].mean())\n",
    "    else:\n",
    "        if df[col].isna().any():\n",
    "            df[col] = df[col].fillna(df[col].mode().iloc[0])"
   ]
  },
  {
   "cell_type": "code",
   "execution_count": null,
   "id": "ebab41a9",
   "metadata": {},
   "outputs": [],
   "source": [
    "# robust time parsing & minute differences =====\n",
    "\n",
    "def _to_datetime(val):\n",
    "    \"\"\"\n",
    "    Parse:\n",
    "      - numeric -> UNIX seconds\n",
    "      - string  -> auto parse ('YYYY-mm-dd ...' or 'HH:MM')\n",
    "    \"\"\"\n",
    "    if pd.isna(val):\n",
    "        return pd.NaT\n",
    "    # numeric epoch seconds\n",
    "    if isinstance(val, (int, float, np.integer, np.floating)):\n",
    "        # If it looks like an epoch second (big), parse with unit='s'\n",
    "        # else try generic parsing\n",
    "        try:\n",
    "            return pd.to_datetime(val, unit=\"s\", errors=\"coerce\")\n",
    "        except Exception:\n",
    "            return pd.to_datetime(val, errors=\"coerce\")\n",
    "    # strings / others\n",
    "    return pd.to_datetime(val, errors=\"coerce\")\n"
   ]
  },
  {
   "cell_type": "code",
   "execution_count": 16,
   "id": "d208d074",
   "metadata": {},
   "outputs": [],
   "source": [
    "def diff_minutes(a, b):\n",
    "    \"\"\"Returns (a - b) in minutes, or np.nan if either cannot be parsed.\"\"\"\n",
    "    ta, tb = _to_datetime(a), _to_datetime(b)\n",
    "    if pd.isna(ta) or pd.isna(tb):\n",
    "        return np.nan\n",
    "    return (ta - tb).total_seconds() / 60.0"
   ]
  },
  {
   "cell_type": "code",
   "execution_count": 19,
   "id": "492714bd",
   "metadata": {},
   "outputs": [],
   "source": [
    "#create columns needed by formula\n",
    "needed_cols = {\"Act_Dept\", \"Scheduled_Dept\", \"Act_Arr\", \"Scheduled_Arr\", \"Is_Start_Station\"}"
   ]
  },
  {
   "cell_type": "code",
   "execution_count": 20,
   "id": "a38e4aed",
   "metadata": {},
   "outputs": [],
   "source": [
    "if not needed_cols.issubset(df.columns):\n",
    "    # Base time from dt if present, else build a synthetic timeline\n",
    "    if \"dt\" in df.columns:\n",
    "        base_ts = pd.to_datetime(df[\"dt\"], unit=\"s\", errors=\"coerce\")\n",
    "        # If some dt are invalid NaT, backfill with a simple sequence\n",
    "        if base_ts.isna().any():\n",
    "            base_ts = base_ts.fillna(pd.Timestamp(\"2025-01-01\")) + pd.to_timedelta(np.arange(len(df)), unit=\"min\")\n",
    "    else:\n",
    "        base_ts = pd.Timestamp(\"2025-01-01\") + pd.to_timedelta(np.arange(len(df)) * 5, unit=\"min\")\n",
    "\n",
    "    # Scheduled departures -> snap to 15-min slots\n",
    "    sched_dep = base_ts.dt.floor(\"15min\")\n",
    "\n",
    "    # Scheduled travel time between 20–90 minutes\n",
    "    rng = np.random.default_rng(42)\n",
    "    sched_travel = rng.integers(20, 91, size=len(df))\n",
    "    sched_arr = sched_dep + pd.to_timedelta(sched_travel, unit=\"min\")\n",
    "\n",
    "    # Actual times: add noise (can be early or late)\n",
    "    dep_noise = rng.normal(loc=3, scale=8, size=len(df)).round()   # mean +3 min\n",
    "    arr_noise = rng.normal(loc=5, scale=12, size=len(df)).round()  # mean +5 min\n",
    "\n",
    "    act_dep = sched_dep + pd.to_timedelta(dep_noise, unit=\"min\")\n",
    "    act_arr = sched_arr + pd.to_timedelta(arr_noise, unit=\"min\")\n",
    "\n",
    "    # Start-station flag ~30%\n",
    "    is_start = (rng.random(len(df)) < 0.30).astype(int)\n",
    "\n",
    "    df[\"Scheduled_Dept\"]   = sched_dep\n",
    "    df[\"Scheduled_Arr\"]    = sched_arr\n",
    "    df[\"Act_Dept\"]         = act_dep\n",
    "    df[\"Act_Arr\"]          = act_arr\n",
    "    df[\"Is_Start_Station\"] = is_start"
   ]
  },
  {
   "cell_type": "code",
   "execution_count": 21,
   "id": "c2a39c6a",
   "metadata": {},
   "outputs": [],
   "source": [
    "# Compute ground-truth delay (minutes)\n",
    "def compute_delay_minutes(row):\n",
    "    dep_delta = diff_minutes(row[\"Act_Dept\"], row[\"Scheduled_Dept\"])\n",
    "    arr_delta = diff_minutes(row[\"Act_Arr\"], row[\"Scheduled_Arr\"])\n",
    "    if pd.isna(dep_delta) or pd.isna(arr_delta):\n",
    "        return np.nan\n",
    "\n",
    "    # Your exact logic:\n",
    "    if (dep_delta > arr_delta):\n",
    "        if bool(row[\"Is_Start_Station\"]):\n",
    "            delay = dep_delta\n",
    "        else:\n",
    "            delay = dep_delta - arr_delta\n",
    "    else:\n",
    "        delay = 0.0\n",
    "\n",
    "    return max(delay, 0.0)"
   ]
  },
  {
   "cell_type": "code",
   "execution_count": 22,
   "id": "6bc4a5a4",
   "metadata": {},
   "outputs": [],
   "source": [
    "df[\"delay_minutes\"] = df.apply(compute_delay_minutes, axis=1)\n",
    "df = df.dropna(subset=[\"delay_minutes\"]).reset_index(drop=True)\n"
   ]
  },
  {
   "cell_type": "code",
   "execution_count": 23,
   "id": "fd10bbee",
   "metadata": {},
   "outputs": [],
   "source": [
    "# Build feature matrix X (weather + context only; avoid timing leakage)\n",
    "candidate_features = [\n",
    "    \"temp\", \"feels_like\", \"pressure\", \"humidity\", \"temp_min\", \"temp_max\",\n",
    "    \"wind_speed\", \"wind_deg\", \"clouds_all\", \"visibility\", \"dew_point\",\n",
    "    \"uv_index\", \"temp_Celsius\", \"latitude\", \"longitude\", \"day_of_week\",\n",
    "    \"weather_main\", \"weather_description\", \"dt\"  # keep dt if present (numeric timestamp)\n",
    "]\n",
    "feature_cols = [c for c in candidate_features if c in df.columns]"
   ]
  },
  {
   "cell_type": "code",
   "execution_count": 24,
   "id": "207106ec",
   "metadata": {},
   "outputs": [],
   "source": [
    "X = df[feature_cols].copy()\n",
    "y = df[\"delay_minutes\"].astype(float)"
   ]
  },
  {
   "cell_type": "code",
   "execution_count": 25,
   "id": "11b1f809",
   "metadata": {},
   "outputs": [],
   "source": [
    "#one hot encoding\n",
    "cat_cols = X.select_dtypes(include=[\"object\", \"category\"]).columns.tolist()\n",
    "X_enc = pd.get_dummies(X, columns=cat_cols, drop_first=True)"
   ]
  },
  {
   "cell_type": "code",
   "execution_count": 26,
   "id": "85f18608",
   "metadata": {},
   "outputs": [],
   "source": [
    "#train test split\n",
    "X_train, X_test, y_train, y_test = train_test_split(\n",
    "    X_enc, y, test_size=0.2, random_state=42\n",
    ")"
   ]
  },
  {
   "cell_type": "code",
   "execution_count": 27,
   "id": "24578ae7",
   "metadata": {},
   "outputs": [],
   "source": [
    "#scalling\n",
    "scaler = StandardScaler(with_mean=False)  # safe for sparse\n",
    "X_train_s = scaler.fit_transform(X_train)\n",
    "X_test_s  = scaler.transform(X_test)"
   ]
  },
  {
   "cell_type": "code",
   "execution_count": 28,
   "id": "900def1b",
   "metadata": {},
   "outputs": [],
   "source": [
    "#linear regression\n",
    "lin_reg = LinearRegression()\n",
    "lin_reg.fit(X_train_s, y_train)\n",
    "y_pred_lin = lin_reg.predict(X_test_s)"
   ]
  },
  {
   "cell_type": "code",
   "execution_count": 35,
   "id": "101afbf4",
   "metadata": {},
   "outputs": [
    {
     "name": "stdout",
     "output_type": "stream",
     "text": [
      "=== Linear Regression ===\n",
      "MAE: 4.896024374551059\n",
      "RMSE: 42.67375164034178\n",
      "R²: -0.26854196314928\n"
     ]
    }
   ],
   "source": [
    "print(\"=== Linear Regression ===\")\n",
    "print(\"MAE:\", mean_absolute_error(y_test, y_pred_lin))\n",
    "print(\"RMSE:\",mean_squared_error(y_test, y_pred_lin))\n",
    "print(\"R²:\", r2_score(y_test, y_pred_lin))"
   ]
  },
  {
   "cell_type": "code",
   "execution_count": 36,
   "id": "969c68d4",
   "metadata": {},
   "outputs": [],
   "source": [
    "#ridge regression\n",
    "ridge = Ridge(alpha=1.0, random_state=42)\n",
    "ridge.fit(X_train_s, y_train)\n",
    "y_pred_ridge = ridge.predict(X_test_s)"
   ]
  },
  {
   "cell_type": "code",
   "execution_count": 38,
   "id": "24b9a658",
   "metadata": {},
   "outputs": [
    {
     "name": "stdout",
     "output_type": "stream",
     "text": [
      "=== Ridge Regression ===\n",
      "MAE: 4.894883869784881\n",
      "RMSE: 42.60629102835544\n",
      "R²: -0.2665365941841691\n"
     ]
    }
   ],
   "source": [
    "print(\"=== Ridge Regression ===\")\n",
    "print(\"MAE:\", mean_absolute_error(y_test, y_pred_ridge))\n",
    "print(\"RMSE:\", mean_squared_error(y_test, y_pred_ridge))\n",
    "print(\"R²:\", r2_score(y_test, y_pred_ridge))"
   ]
  },
  {
   "cell_type": "code",
   "execution_count": 39,
   "id": "90eac2b3",
   "metadata": {},
   "outputs": [],
   "source": [
    "#lasso regression\n",
    "lasso = Lasso(alpha=0.001, random_state=42, max_iter=5000)\n",
    "lasso.fit(X_train_s, y_train)\n",
    "y_pred_lasso = lasso.predict(X_test_s)"
   ]
  },
  {
   "cell_type": "code",
   "execution_count": 45,
   "id": "23a3db85",
   "metadata": {},
   "outputs": [
    {
     "name": "stdout",
     "output_type": "stream",
     "text": [
      "=== Lasso Regression ===\n",
      "MAE: 4.8947448323876435\n",
      "RMSE: 42.62279311347932\n",
      "R²: -0.2670271436825007\n"
     ]
    }
   ],
   "source": [
    "print(\"=== Lasso Regression ===\")\n",
    "print(\"MAE:\", mean_absolute_error(y_test, y_pred_lasso))\n",
    "print(\"RMSE:\", mean_squared_error(y_test, y_pred_lasso))\n",
    "print(\"R²:\", r2_score(y_test, y_pred_lasso))"
   ]
  },
  {
   "cell_type": "code",
   "execution_count": 40,
   "id": "8971f6e5",
   "metadata": {},
   "outputs": [],
   "source": [
    "#decision tree regressor\n",
    "dt = DecisionTreeRegressor(max_depth=8, random_state=42)\n",
    "dt.fit(X_train, y_train)\n",
    "y_pred_dt = dt.predict(X_test)"
   ]
  },
  {
   "cell_type": "code",
   "execution_count": 46,
   "id": "9d9b42e6",
   "metadata": {},
   "outputs": [
    {
     "name": "stdout",
     "output_type": "stream",
     "text": [
      "=== Decision Tree Regressor ===\n",
      "MAE: 4.849700307522145\n",
      "RMSE: 50.936961765574004\n",
      "R²: -0.514178411580678\n"
     ]
    }
   ],
   "source": [
    "print(\"=== Decision Tree Regressor ===\")\n",
    "print(\"MAE:\", mean_absolute_error(y_test, y_pred_dt))\n",
    "print(\"RMSE:\", mean_squared_error(y_test, y_pred_dt))\n",
    "print(\"R²:\", r2_score(y_test, y_pred_dt))"
   ]
  },
  {
   "cell_type": "code",
   "execution_count": 41,
   "id": "85b08b94",
   "metadata": {},
   "outputs": [],
   "source": [
    "#random forest regressor\n",
    "rf = RandomForestRegressor(n_estimators=300, random_state=42)\n",
    "rf.fit(X_train, y_train)\n",
    "y_pred_rf = rf.predict(X_test)"
   ]
  },
  {
   "cell_type": "code",
   "execution_count": 47,
   "id": "0c29fbbf",
   "metadata": {},
   "outputs": [
    {
     "name": "stdout",
     "output_type": "stream",
     "text": [
      "=== Random Forest Regressor ===\n",
      "MAE: 5.252166666666667\n",
      "RMSE: 40.522557222222225\n",
      "R²: -0.20459444774739088\n"
     ]
    }
   ],
   "source": [
    "print(\"=== Random Forest Regressor ===\")\n",
    "print(\"MAE:\", mean_absolute_error(y_test, y_pred_rf))\n",
    "print(\"RMSE:\", mean_squared_error(y_test, y_pred_rf))\n",
    "print(\"R²:\", r2_score(y_test, y_pred_rf))"
   ]
  },
  {
   "cell_type": "code",
   "execution_count": 42,
   "id": "5c7d6d2e",
   "metadata": {},
   "outputs": [],
   "source": [
    "#support vector regressor\n",
    "svr = SVR(kernel=\"rbf\", C=3.0, epsilon=0.1)\n",
    "svr.fit(X_train_s, y_train)\n",
    "y_pred_svr = svr.predict(X_test_s)"
   ]
  },
  {
   "cell_type": "code",
   "execution_count": 48,
   "id": "2baee9e3",
   "metadata": {},
   "outputs": [
    {
     "name": "stdout",
     "output_type": "stream",
     "text": [
      "=== SVR ===\n",
      "MAE: 3.8139952093251095\n",
      "RMSE: 47.32990497384559\n",
      "R²: -0.40695317995973834\n"
     ]
    }
   ],
   "source": [
    "print(\"=== SVR ===\")\n",
    "print(\"MAE:\", mean_absolute_error(y_test, y_pred_svr))\n",
    "print(\"RMSE:\", mean_squared_error(y_test, y_pred_svr))\n",
    "print(\"R²:\", r2_score(y_test, y_pred_svr))"
   ]
  },
  {
   "cell_type": "code",
   "execution_count": 50,
   "id": "e4a553f1",
   "metadata": {},
   "outputs": [],
   "source": [
    "results = []\n",
    "\n",
    "def add_result(name, y_true, y_pred):\n",
    "    mae = mean_absolute_error(y_true, y_pred)\n",
    "    rmse = np.sqrt(mean_squared_error(y_true, y_pred)) \n",
    "    r2 = r2_score(y_true, y_pred)\n",
    "    results.append({\"Model\": name, \"MAE\": mae, \"RMSE\": rmse, \"R²\": r2})"
   ]
  },
  {
   "cell_type": "code",
   "execution_count": 52,
   "id": "c2e8ff5c",
   "metadata": {},
   "outputs": [],
   "source": [
    "add_result(\"Linear Regression\", y_test, y_pred_lin)\n",
    "add_result(\"Ridge Regression\", y_test, y_pred_ridge)\n",
    "add_result(\"Lasso Regression\", y_test, y_pred_lasso)\n",
    "add_result(\"Decision Tree\", y_test, y_pred_dt)\n",
    "add_result(\"Random Forest\", y_test, y_pred_rf)\n",
    "add_result(\"SVR\", y_test, y_pred_svr)"
   ]
  },
  {
   "cell_type": "code",
   "execution_count": 53,
   "id": "9c12c1dd",
   "metadata": {},
   "outputs": [
    {
     "name": "stdout",
     "output_type": "stream",
     "text": [
      "\n",
      "=== Model Comparison ===\n",
      "            Model      MAE     RMSE        R²\n",
      "    Random Forest 5.252167 6.365733 -0.204594\n",
      " Ridge Regression 4.894884 6.527349 -0.266537\n",
      " Ridge Regression 4.894884 6.527349 -0.266537\n",
      " Lasso Regression 4.894745 6.528613 -0.267027\n",
      " Lasso Regression 4.894745 6.528613 -0.267027\n",
      "Linear Regression 4.896024 6.532515 -0.268542\n",
      "Linear Regression 4.896024 6.532515 -0.268542\n",
      "              SVR 3.813995 6.879673 -0.406953\n",
      "    Decision Tree 4.849700 7.137014 -0.514178\n"
     ]
    }
   ],
   "source": [
    "results_df = pd.DataFrame(results).sort_values(by=\"RMSE\")\n",
    "print(\"\\n=== Model Comparison ===\")\n",
    "print(results_df.to_string(index=False))"
   ]
  }
 ],
 "metadata": {
  "kernelspec": {
   "display_name": "Python 3",
   "language": "python",
   "name": "python3"
  },
  "language_info": {
   "codemirror_mode": {
    "name": "ipython",
    "version": 3
   },
   "file_extension": ".py",
   "mimetype": "text/x-python",
   "name": "python",
   "nbconvert_exporter": "python",
   "pygments_lexer": "ipython3",
   "version": "3.11.0"
  }
 },
 "nbformat": 4,
 "nbformat_minor": 5
}
